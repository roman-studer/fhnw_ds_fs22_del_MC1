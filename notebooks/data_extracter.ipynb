{
 "cells": [
  {
   "cell_type": "code",
   "execution_count": 13,
   "metadata": {
    "collapsed": true
   },
   "outputs": [],
   "source": [
    "import pandas as pd\n",
    "from tqdm.notebook import tqdm_notebook as tqdm\n",
    "import tarfile\n",
    "import os"
   ]
  },
  {
   "cell_type": "code",
   "execution_count": 14,
   "outputs": [],
   "source": [
    "DATA_FOLDER = '../data/raw/CXR8/CXR8/images/'\n",
    "TARGET_FOLDER = '../data/raw/images'"
   ],
   "metadata": {
    "collapsed": false,
    "pycharm": {
     "name": "#%%\n"
    }
   }
  },
  {
   "cell_type": "code",
   "execution_count": 15,
   "outputs": [],
   "source": [
    "def remove_suffix(input_string, suffix):\n",
    "    if suffix and input_string.endswith(suffix):\n",
    "        return input_string[:-len(suffix)]\n",
    "    return input_string"
   ],
   "metadata": {
    "collapsed": false,
    "pycharm": {
     "name": "#%%\n"
    }
   }
  },
  {
   "cell_type": "code",
   "execution_count": 16,
   "outputs": [
    {
     "data": {
      "text/plain": "  0%|          | 0/13 [00:00<?, ?it/s]",
      "application/vnd.jupyter.widget-view+json": {
       "version_major": 2,
       "version_minor": 0,
       "model_id": "94561118ec84402e9a61f78b1a8054a3"
      }
     },
     "metadata": {},
     "output_type": "display_data"
    }
   ],
   "source": [
    "def extract_from_tar_or_gz(data_folder, target_folder):\n",
    "\n",
    "    available_files = os.listdir(data_folder)\n",
    "\n",
    "    for fname in tqdm(available_files):\n",
    "        if fname.endswith(\"tar.gz\"):\n",
    "            path = target_folder + '/' + remove_suffix(fname, '.tar.gz')\n",
    "            tar = tarfile.open(data_folder + fname, \"r:gz\")\n",
    "            tar.extractall(path)\n",
    "            tar.close()\n",
    "        elif fname.endswith(\"tar\"):\n",
    "            path = target_folder + '/' + remove_suffix(fname, '.tar')\n",
    "            tar = tarfile.open(data_folder + fname + '/' + fname, \"r:\")\n",
    "            tar.extractall(path)\n",
    "            tar.close()\n",
    "\n",
    "# extract_from_tar_or_gz(DATA_FOLDER, TARGET_FOLDER)"
   ],
   "metadata": {
    "collapsed": false,
    "pycharm": {
     "name": "#%%\n"
    }
   }
  },
  {
   "cell_type": "code",
   "execution_count": 11,
   "outputs": [
    {
     "data": {
      "text/plain": "['00000003_000.png',\n '00000003_001.png',\n '00000003_002.png',\n '00000003_003.png',\n '00000003_004.png',\n '00000003_005.png',\n '00000003_006.png',\n '00000003_007.png',\n '00000013_000.png',\n '00000013_001.png']"
     },
     "execution_count": 11,
     "metadata": {},
     "output_type": "execute_result"
    }
   ],
   "source": [
    "def get_train_test_image_names():\n",
    "    test_path = remove_suffix(DATA_FOLDER, 'images/') + 'test_list.txt'\n",
    "    with open(test_path) as f:\n",
    "        test_names = f.read().splitlines()\n",
    "    with open(remove_suffix(DATA_FOLDER, 'images/') + 'train_val_list.txt') as f:\n",
    "        train_names = f.read().splitlines()\n",
    "    return test_names, train_names\n",
    "\n",
    "test_labels, train_labels = get_train_test_image_names()\n",
    "test_labels[:10]"
   ],
   "metadata": {
    "collapsed": false,
    "pycharm": {
     "name": "#%%\n"
    }
   }
  },
  {
   "cell_type": "code",
   "execution_count": null,
   "outputs": [],
   "source": [
    "def move_data_to_train_test_folder():\n",
    "    raise NotImplementedError"
   ],
   "metadata": {
    "collapsed": false,
    "pycharm": {
     "name": "#%%\n"
    }
   }
  }
 ],
 "metadata": {
  "kernelspec": {
   "display_name": "Python 3",
   "language": "python",
   "name": "python3"
  },
  "language_info": {
   "codemirror_mode": {
    "name": "ipython",
    "version": 2
   },
   "file_extension": ".py",
   "mimetype": "text/x-python",
   "name": "python",
   "nbconvert_exporter": "python",
   "pygments_lexer": "ipython2",
   "version": "2.7.6"
  }
 },
 "nbformat": 4,
 "nbformat_minor": 0
}