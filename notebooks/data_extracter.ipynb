{
 "cells": [
  {
   "cell_type": "code",
   "execution_count": 1,
   "metadata": {
    "collapsed": true
   },
   "outputs": [],
   "source": [
    "import pandas as pd\n",
    "from tqdm.notebook import tqdm_notebook as tqdm\n",
    "import tarfile\n",
    "import os\n",
    "import helpers"
   ]
  },
  {
   "cell_type": "code",
   "execution_count": 2,
   "outputs": [],
   "source": [
    "CONFIG = helpers.get_config()\n",
    "\n",
    "DATA_FOLDER = CONFIG['DATA_FOLDER']\n",
    "TARGET_FOLDER = CONFIG['TARGET_FOLDER']"
   ],
   "metadata": {
    "collapsed": false,
    "pycharm": {
     "name": "#%%\n"
    }
   }
  },
  {
   "cell_type": "code",
   "execution_count": 3,
   "outputs": [],
   "source": [
    "def extract_from_tar_or_gz(data_folder, target_folder):\n",
    "\n",
    "    available_files = os.listdir(data_folder)\n",
    "\n",
    "    for fname in tqdm(available_files):\n",
    "        if fname.endswith(\"tar.gz\"):\n",
    "            path = target_folder + '/' + helpers.remove_suffix(fname, '.tar.gz')\n",
    "            tar = tarfile.open(data_folder + fname, \"r:gz\")\n",
    "            tar.extractall(path)\n",
    "            tar.close()\n",
    "        elif fname.endswith(\"tar\"):\n",
    "            path = target_folder + '/' + helpers.remove_suffix(fname, '.tar')\n",
    "            tar = tarfile.open(data_folder + fname + '/' + fname, \"r:\")\n",
    "            tar.extractall(path)\n",
    "            tar.close()\n",
    "\n",
    "#extract_from_tar_or_gz(DATA_FOLDER, TARGET_FOLDER)"
   ],
   "metadata": {
    "collapsed": false,
    "pycharm": {
     "name": "#%%\n"
    }
   }
  },
  {
   "cell_type": "code",
   "execution_count": 4,
   "outputs": [
    {
     "data": {
      "text/plain": "  0%|          | 0/112119 [00:00<?, ?it/s]",
      "application/vnd.jupyter.widget-view+json": {
       "version_major": 2,
       "version_minor": 0,
       "model_id": "ae439136f58e41fa9fb31bc24250181e"
      }
     },
     "metadata": {},
     "output_type": "display_data"
    }
   ],
   "source": [
    "helpers.flatten_data()"
   ],
   "metadata": {
    "collapsed": false,
    "pycharm": {
     "name": "#%%\n"
    }
   }
  },
  {
   "cell_type": "code",
   "execution_count": 4,
   "outputs": [],
   "source": [],
   "metadata": {
    "collapsed": false,
    "pycharm": {
     "name": "#%%\n"
    }
   }
  }
 ],
 "metadata": {
  "kernelspec": {
   "display_name": "Python 3",
   "language": "python",
   "name": "python3"
  },
  "language_info": {
   "codemirror_mode": {
    "name": "ipython",
    "version": 2
   },
   "file_extension": ".py",
   "mimetype": "text/x-python",
   "name": "python",
   "nbconvert_exporter": "python",
   "pygments_lexer": "ipython2",
   "version": "2.7.6"
  }
 },
 "nbformat": 4,
 "nbformat_minor": 0
}