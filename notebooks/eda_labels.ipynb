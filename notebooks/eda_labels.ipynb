{
 "cells": [
  {
   "cell_type": "code",
   "execution_count": 2,
   "metadata": {
    "collapsed": true
   },
   "outputs": [],
   "source": [
    "import csv\n",
    "\n",
    "import pandas as pd\n",
    "import seaborn as sns\n",
    "\n",
    "import helpers"
   ]
  },
  {
   "cell_type": "code",
   "execution_count": 3,
   "outputs": [],
   "source": [
    "CONFIG = helpers.get_config()\n",
    "\n",
    "DATA_FOLDER = CONFIG['DATA_FOLDER']\n",
    "TARGET_FOLDER = CONFIG['TARGET_FOLDER']"
   ],
   "metadata": {
    "collapsed": false,
    "pycharm": {
     "name": "#%%\n"
    }
   }
  },
  {
   "cell_type": "code",
   "execution_count": 4,
   "outputs": [],
   "source": [
    "df_labels = pd.read_csv('../data/raw/CXR8/CXR8/Data_Entry_2017_v2020.csv')"
   ],
   "metadata": {
    "collapsed": false,
    "pycharm": {
     "name": "#%%\n"
    }
   }
  },
  {
   "cell_type": "code",
   "execution_count": 5,
   "outputs": [
    {
     "data": {
      "text/plain": "        Image Index          Finding Labels  Follow-up #  Patient ID  \\\n0  00000001_000.png            Cardiomegaly            0           1   \n1  00000001_001.png  Cardiomegaly|Emphysema            1           1   \n2  00000001_002.png   Cardiomegaly|Effusion            2           1   \n3  00000002_000.png              No Finding            0           2   \n4  00000003_001.png                  Hernia            0           3   \n\n   Patient Age Patient Gender View Position  OriginalImage[Width  Height]  \\\n0           57              M            PA                 2682     2749   \n1           58              M            PA                 2894     2729   \n2           58              M            PA                 2500     2048   \n3           80              M            PA                 2500     2048   \n4           74              F            PA                 2500     2048   \n\n   OriginalImagePixelSpacing[x     y]  \n0                        0.143  0.143  \n1                        0.143  0.143  \n2                        0.168  0.168  \n3                        0.171  0.171  \n4                        0.168  0.168  ",
      "text/html": "<div>\n<style scoped>\n    .dataframe tbody tr th:only-of-type {\n        vertical-align: middle;\n    }\n\n    .dataframe tbody tr th {\n        vertical-align: top;\n    }\n\n    .dataframe thead th {\n        text-align: right;\n    }\n</style>\n<table border=\"1\" class=\"dataframe\">\n  <thead>\n    <tr style=\"text-align: right;\">\n      <th></th>\n      <th>Image Index</th>\n      <th>Finding Labels</th>\n      <th>Follow-up #</th>\n      <th>Patient ID</th>\n      <th>Patient Age</th>\n      <th>Patient Gender</th>\n      <th>View Position</th>\n      <th>OriginalImage[Width</th>\n      <th>Height]</th>\n      <th>OriginalImagePixelSpacing[x</th>\n      <th>y]</th>\n    </tr>\n  </thead>\n  <tbody>\n    <tr>\n      <th>0</th>\n      <td>00000001_000.png</td>\n      <td>Cardiomegaly</td>\n      <td>0</td>\n      <td>1</td>\n      <td>57</td>\n      <td>M</td>\n      <td>PA</td>\n      <td>2682</td>\n      <td>2749</td>\n      <td>0.143</td>\n      <td>0.143</td>\n    </tr>\n    <tr>\n      <th>1</th>\n      <td>00000001_001.png</td>\n      <td>Cardiomegaly|Emphysema</td>\n      <td>1</td>\n      <td>1</td>\n      <td>58</td>\n      <td>M</td>\n      <td>PA</td>\n      <td>2894</td>\n      <td>2729</td>\n      <td>0.143</td>\n      <td>0.143</td>\n    </tr>\n    <tr>\n      <th>2</th>\n      <td>00000001_002.png</td>\n      <td>Cardiomegaly|Effusion</td>\n      <td>2</td>\n      <td>1</td>\n      <td>58</td>\n      <td>M</td>\n      <td>PA</td>\n      <td>2500</td>\n      <td>2048</td>\n      <td>0.168</td>\n      <td>0.168</td>\n    </tr>\n    <tr>\n      <th>3</th>\n      <td>00000002_000.png</td>\n      <td>No Finding</td>\n      <td>0</td>\n      <td>2</td>\n      <td>80</td>\n      <td>M</td>\n      <td>PA</td>\n      <td>2500</td>\n      <td>2048</td>\n      <td>0.171</td>\n      <td>0.171</td>\n    </tr>\n    <tr>\n      <th>4</th>\n      <td>00000003_001.png</td>\n      <td>Hernia</td>\n      <td>0</td>\n      <td>3</td>\n      <td>74</td>\n      <td>F</td>\n      <td>PA</td>\n      <td>2500</td>\n      <td>2048</td>\n      <td>0.168</td>\n      <td>0.168</td>\n    </tr>\n  </tbody>\n</table>\n</div>"
     },
     "execution_count": 5,
     "metadata": {},
     "output_type": "execute_result"
    }
   ],
   "source": [
    "df_labels.head()"
   ],
   "metadata": {
    "collapsed": false,
    "pycharm": {
     "name": "#%%\n"
    }
   }
  },
  {
   "cell_type": "code",
   "execution_count": 6,
   "outputs": [
    {
     "data": {
      "text/plain": "['00000003_000.png',\n '00000003_001.png',\n '00000003_002.png',\n '00000003_003.png',\n '00000003_004.png',\n '00000003_005.png',\n '00000003_006.png',\n '00000003_007.png',\n '00000013_000.png',\n '00000013_001.png']"
     },
     "execution_count": 6,
     "metadata": {},
     "output_type": "execute_result"
    }
   ],
   "source": [
    "# add trainset feature (bool) taken from test_list.txt and train_val_list.txt>\n",
    "test_labels, train_labels = helpers.get_train_and_test_list()\n",
    "test_labels[:10]"
   ],
   "metadata": {
    "collapsed": false,
    "pycharm": {
     "name": "#%%\n"
    }
   }
  },
  {
   "cell_type": "code",
   "execution_count": 7,
   "outputs": [
    {
     "name": "stdout",
     "output_type": "stream",
     "text": [
      "n images in testset 25596\n",
      "n images in trainset 86524\n"
     ]
    }
   ],
   "source": [
    "print(f'n images in testset {len(test_labels)}')\n",
    "print(f'n images in trainset {len(train_labels)}')"
   ],
   "metadata": {
    "collapsed": false,
    "pycharm": {
     "name": "#%%\n"
    }
   }
  },
  {
   "cell_type": "code",
   "execution_count": 8,
   "outputs": [],
   "source": [
    "train_subset_labels, test_subset_labels = helpers.get_data_subset(80, 20)  # get hundred random images"
   ],
   "metadata": {
    "collapsed": false,
    "pycharm": {
     "name": "#%%\n"
    }
   }
  },
  {
   "cell_type": "markdown",
   "source": [
    "## Targets\n",
    "The datasets contains thousands of xrays of a human thorax. The patients can be subject to one or more of 14 illnesses, ranging from possible tumors (label = `mass`) to pneumonia. Healthy patients are labeled with `no finding`. The patients can have multiple, interconnected diagnosis, e.g. `Effusion|Infiltration`, which means that one image can have multiple targets. As this adds to the complexity of the classification task I have chosen to focus solely on images which have only one corresponding label. We take a look at the subset of images in the next few code cells."
   ],
   "metadata": {
    "collapsed": false,
    "pycharm": {
     "name": "#%% md\n"
    }
   }
  },
  {
   "cell_type": "code",
   "execution_count": 9,
   "outputs": [
    {
     "data": {
      "text/plain": "No Finding                                                         60361\nInfiltration                                                        9547\nAtelectasis                                                         4215\nEffusion                                                            3955\nNodule                                                              2705\n                                                                   ...  \nAtelectasis|Consolidation|Edema|Effusion|Infiltration|Pneumonia        1\nAtelectasis|Consolidation|Effusion|Emphysema|Mass|Pneumothorax         1\nCardiomegaly|Effusion|Pleural_Thickening|Pneumothorax                  1\nEdema|Infiltration|Pneumothorax                                        1\nAtelectasis|Consolidation|Mass|Pleural_Thickening|Pneumothorax         1\nName: Finding Labels, Length: 836, dtype: int64"
     },
     "execution_count": 9,
     "metadata": {},
     "output_type": "execute_result"
    }
   ],
   "source": [
    "df_labels['Finding Labels'].value_counts()"
   ],
   "metadata": {
    "collapsed": false,
    "pycharm": {
     "name": "#%%\n"
    }
   }
  },
  {
   "cell_type": "code",
   "execution_count": 10,
   "outputs": [],
   "source": [
    "labels = ['Atelectasis', 'Consolidation', 'Infiltration', 'Pneumothorax',\n",
    "          'Edema', 'Emphysema', 'Fibrosis', 'Effusion', 'Pneumonia',\n",
    "          'Pleural_thickening', 'Cardiomegaly', 'Nodule', 'Mass', 'Hernia', 'No Finding']"
   ],
   "metadata": {
    "collapsed": false,
    "pycharm": {
     "name": "#%%\n"
    }
   }
  },
  {
   "cell_type": "code",
   "execution_count": 11,
   "outputs": [
    {
     "data": {
      "text/plain": "        Image Index Finding Labels  Follow-up #  Patient ID  Patient Age  \\\n0  00000001_000.png   Cardiomegaly            0           1           57   \n3  00000002_000.png     No Finding            0           2           80   \n4  00000003_001.png         Hernia            0           3           74   \n5  00000003_002.png         Hernia            1           3           75   \n7  00000003_004.png         Hernia            3           3           77   \n\n  Patient Gender View Position  OriginalImage[Width  Height]  \\\n0              M            PA                 2682     2749   \n3              M            PA                 2500     2048   \n4              F            PA                 2500     2048   \n5              F            PA                 2048     2500   \n7              F            PA                 2500     2048   \n\n   OriginalImagePixelSpacing[x     y]  \n0                        0.143  0.143  \n3                        0.171  0.171  \n4                        0.168  0.168  \n5                        0.168  0.168  \n7                        0.168  0.168  ",
      "text/html": "<div>\n<style scoped>\n    .dataframe tbody tr th:only-of-type {\n        vertical-align: middle;\n    }\n\n    .dataframe tbody tr th {\n        vertical-align: top;\n    }\n\n    .dataframe thead th {\n        text-align: right;\n    }\n</style>\n<table border=\"1\" class=\"dataframe\">\n  <thead>\n    <tr style=\"text-align: right;\">\n      <th></th>\n      <th>Image Index</th>\n      <th>Finding Labels</th>\n      <th>Follow-up #</th>\n      <th>Patient ID</th>\n      <th>Patient Age</th>\n      <th>Patient Gender</th>\n      <th>View Position</th>\n      <th>OriginalImage[Width</th>\n      <th>Height]</th>\n      <th>OriginalImagePixelSpacing[x</th>\n      <th>y]</th>\n    </tr>\n  </thead>\n  <tbody>\n    <tr>\n      <th>0</th>\n      <td>00000001_000.png</td>\n      <td>Cardiomegaly</td>\n      <td>0</td>\n      <td>1</td>\n      <td>57</td>\n      <td>M</td>\n      <td>PA</td>\n      <td>2682</td>\n      <td>2749</td>\n      <td>0.143</td>\n      <td>0.143</td>\n    </tr>\n    <tr>\n      <th>3</th>\n      <td>00000002_000.png</td>\n      <td>No Finding</td>\n      <td>0</td>\n      <td>2</td>\n      <td>80</td>\n      <td>M</td>\n      <td>PA</td>\n      <td>2500</td>\n      <td>2048</td>\n      <td>0.171</td>\n      <td>0.171</td>\n    </tr>\n    <tr>\n      <th>4</th>\n      <td>00000003_001.png</td>\n      <td>Hernia</td>\n      <td>0</td>\n      <td>3</td>\n      <td>74</td>\n      <td>F</td>\n      <td>PA</td>\n      <td>2500</td>\n      <td>2048</td>\n      <td>0.168</td>\n      <td>0.168</td>\n    </tr>\n    <tr>\n      <th>5</th>\n      <td>00000003_002.png</td>\n      <td>Hernia</td>\n      <td>1</td>\n      <td>3</td>\n      <td>75</td>\n      <td>F</td>\n      <td>PA</td>\n      <td>2048</td>\n      <td>2500</td>\n      <td>0.168</td>\n      <td>0.168</td>\n    </tr>\n    <tr>\n      <th>7</th>\n      <td>00000003_004.png</td>\n      <td>Hernia</td>\n      <td>3</td>\n      <td>3</td>\n      <td>77</td>\n      <td>F</td>\n      <td>PA</td>\n      <td>2500</td>\n      <td>2048</td>\n      <td>0.168</td>\n      <td>0.168</td>\n    </tr>\n  </tbody>\n</table>\n</div>"
     },
     "execution_count": 11,
     "metadata": {},
     "output_type": "execute_result"
    }
   ],
   "source": [
    "df_single = df_labels[df_labels['Finding Labels'].str.contains('\\|') == False]\n",
    "df_single.head()"
   ],
   "metadata": {
    "collapsed": false,
    "pycharm": {
     "name": "#%%\n"
    }
   }
  },
  {
   "cell_type": "code",
   "execution_count": 12,
   "outputs": [
    {
     "data": {
      "text/plain": "No Finding            60361\nInfiltration           9547\nAtelectasis            4215\nEffusion               3955\nNodule                 2705\nPneumothorax           2194\nMass                   2139\nConsolidation          1310\nPleural_Thickening     1126\nCardiomegaly           1093\nEmphysema               892\nFibrosis                727\nEdema                   628\nPneumonia               322\nHernia                  110\nName: Finding Labels, dtype: int64"
     },
     "execution_count": 12,
     "metadata": {},
     "output_type": "execute_result"
    }
   ],
   "source": [
    "df_single['Finding Labels'].value_counts()"
   ],
   "metadata": {
    "collapsed": false,
    "pycharm": {
     "name": "#%%\n"
    }
   }
  },
  {
   "cell_type": "code",
   "execution_count": 13,
   "outputs": [
    {
     "data": {
      "text/plain": "<Figure size 432x288 with 1 Axes>",
      "image/png": "[encoded data removed]"
     },
     "metadata": {
      "needs_background": "light"
     },
     "output_type": "display_data"
    }
   ],
   "source": [
    "g = sns.countplot(data=df_single, y='Finding Labels', palette=CONFIG['COLOR_DISCRETE'],\n",
    "                  order=df_single['Finding Labels'].value_counts().index)\n",
    "helpers.plot_wrapper(g, 'Distribution of single label findings',\n",
    "                     'Contains only samples which have a single finding in \"Finding Labels\" attribute', 'Count',\n",
    "                     'Finding')"
   ],
   "metadata": {
    "collapsed": false,
    "pycharm": {
     "name": "#%%\n"
    }
   }
  },
  {
   "cell_type": "markdown",
   "source": [
    "**Note** The graphic above shows the subset of the data which will be considered for classification. We observe that most images show `No finding` as their label. These \"negative\" images far surpass the \"positive\" classes. This could be an issue with classification later on. Strategies to deal with this unbalanced dataset will be discussed at a later stage."
   ],
   "metadata": {
    "collapsed": false,
    "pycharm": {
     "name": "#%% md\n"
    }
   }
  },
  {
   "cell_type": "code",
   "execution_count": 14,
   "outputs": [
    {
     "data": {
      "text/plain": "<Figure size 432x288 with 1 Axes>",
      "image/png": "[encoded data removed]"
     },
     "metadata": {
      "needs_background": "light"
     },
     "output_type": "display_data"
    }
   ],
   "source": [
    "df_positive = df_single[df_single['Finding Labels'] != 'No Finding']\n",
    "g = sns.countplot(data=df_positive, y='Finding Labels', palette=CONFIG['COLOR_DISCRETE'],\n",
    "                  order=df_positive['Finding Labels'].value_counts().index)\n",
    "helpers.plot_wrapper(g, 'Distribution of single, _positive_ label findings',\n",
    "                     'Contains only samples which have a single finding and belong to a positive class', 'Count',\n",
    "                     'Finding')"
   ],
   "metadata": {
    "collapsed": false,
    "pycharm": {
     "name": "#%%\n"
    }
   }
  },
  {
   "cell_type": "markdown",
   "source": [
    "**Note** By omitting the negative class `No Finding` we get a better sense over the distribution of the 14 positive classes. We observe that `Infiltration` is the majority class in the positive subset. Other classes, like `Hernia` or `Pneumonia` build the trailing end of the distribution and thus act as minority classes."
   ],
   "metadata": {
    "collapsed": false,
    "pycharm": {
     "name": "#%% md\n"
    }
   }
  },
  {
   "cell_type": "markdown",
   "source": [
    "We now extract the test- and train image file names and save them into the labels folders as `test_labels_filtered.csv` and `train_labels_filetered.csv`.\n",
    "Currently all 14 targets (including \"no finding\") are considered."
   ],
   "metadata": {
    "collapsed": false,
    "pycharm": {
     "name": "#%% md\n"
    }
   }
  },
  {
   "cell_type": "code",
   "execution_count": 15,
   "outputs": [
    {
     "data": {
      "text/plain": "['00000003_001.png',\n '00000003_002.png',\n '00000003_004.png',\n '00000003_005.png',\n '00000003_006.png',\n '00000003_007.png',\n '00000003_000.png',\n '00000013_024.png',\n '00000013_033.png',\n '00000013_036.png']"
     },
     "execution_count": 15,
     "metadata": {},
     "output_type": "execute_result"
    }
   ],
   "source": [
    "valid_single_label_test = []\n",
    "valid_single_label_train = []\n",
    "\n",
    "for image in df_single['Image Index']:\n",
    "    if image in test_labels:\n",
    "        valid_single_label_test.append(image)\n",
    "    elif image in train_labels:\n",
    "        valid_single_label_train.append(image)\n",
    "    else:\n",
    "        continue\n",
    "\n",
    "valid_single_label_test[:10]"
   ],
   "metadata": {
    "collapsed": false,
    "pycharm": {
     "name": "#%%\n"
    }
   }
  },
  {
   "cell_type": "code",
   "execution_count": 16,
   "outputs": [
    {
     "name": "stdout",
     "output_type": "stream",
     "text": [
      "Number of training images: 73471\n",
      "Number of test images: 17853\n"
     ]
    }
   ],
   "source": [
    "print(f'Number of training images: {len(valid_single_label_train)}')\n",
    "print(f'Number of test images: {len(valid_single_label_test)}')"
   ],
   "metadata": {
    "collapsed": false,
    "pycharm": {
     "name": "#%%\n"
    }
   }
  },
  {
   "cell_type": "code",
   "execution_count": 21,
   "outputs": [],
   "source": [
    "df_train = df_single[df_single['Image Index'].isin(valid_single_label_train)][['Image Index', 'Finding Labels']]\n",
    "df_test = df_single[df_single['Image Index'].isin(valid_single_label_test)][['Image Index', 'Finding Labels']]"
   ],
   "metadata": {
    "collapsed": false,
    "pycharm": {
     "name": "#%%\n"
    }
   }
  },
  {
   "cell_type": "code",
   "execution_count": 24,
   "outputs": [],
   "source": [
    "# save lists\n",
    "df_train.to_csv(\"../data/labels/train_labels_filtered.csv\", sep=',',header=False, index=False)\n",
    "df_test.to_csv(\"../data/labels/test_labels_filtered.csv\", sep=',',header=False, index=False)"
   ],
   "metadata": {
    "collapsed": false,
    "pycharm": {
     "name": "#%%\n"
    }
   }
  }
 ],
 "metadata": {
  "kernelspec": {
   "display_name": "Python 3",
   "language": "python",
   "name": "python3"
  },
  "language_info": {
   "codemirror_mode": {
    "name": "ipython",
    "version": 2
   },
   "file_extension": ".py",
   "mimetype": "text/x-python",
   "name": "python",
   "nbconvert_exporter": "python",
   "pygments_lexer": "ipython2",
   "version": "2.7.6"
  }
 },
 "nbformat": 4,
 "nbformat_minor": 0
}